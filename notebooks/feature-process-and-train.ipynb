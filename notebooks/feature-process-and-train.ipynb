{
 "cells": [
  {
   "cell_type": "code",
   "execution_count": 2,
   "metadata": {
    "execution": {
     "iopub.execute_input": "2022-09-11T09:25:56.415201Z",
     "iopub.status.busy": "2022-09-11T09:25:56.414434Z",
     "iopub.status.idle": "2022-09-11T09:25:56.419199Z",
     "shell.execute_reply": "2022-09-11T09:25:56.418094Z",
     "shell.execute_reply.started": "2022-09-11T09:25:56.415159Z"
    }
   },
   "outputs": [],
   "source": [
    "import warnings\n",
    "warnings.filterwarnings('ignore')"
   ]
  },
  {
   "cell_type": "code",
   "execution_count": 32,
   "metadata": {
    "execution": {
     "iopub.execute_input": "2022-09-11T10:55:00.819174Z",
     "iopub.status.busy": "2022-09-11T10:55:00.818461Z",
     "iopub.status.idle": "2022-09-11T10:55:00.828979Z",
     "shell.execute_reply": "2022-09-11T10:55:00.827681Z",
     "shell.execute_reply.started": "2022-09-11T10:55:00.819121Z"
    }
   },
   "outputs": [],
   "source": [
    "import random\n",
    "import re\n",
    "import string\n",
    "import pickle\n",
    "import numpy as np\n",
    "import pandas as pd\n",
    "import seaborn as sns\n",
    "import matplotlib.pyplot as plt\n",
    "\n",
    "import nltk\n",
    "from nltk.corpus import wordnet\n",
    "from nltk.stem import WordNetLemmatizer\n",
    "from sklearn.feature_extraction.text import TfidfVectorizer\n",
    "\n",
    "from sklearn.compose import ColumnTransformer\n",
    "from category_encoders import TargetEncoder\n",
    "from category_encoders.one_hot import OneHotEncoder\n",
    "\n",
    "\n",
    "from sklearn.cluster import KMeans\n",
    "from sklearn.decomposition import PCA\n",
    "from catboost import CatBoostClassifier\n",
    "from sklearn.tree import DecisionTreeClassifier\n",
    "from sklearn.linear_model import LogisticRegression\n",
    "\n",
    "from sklearn.pipeline import Pipeline\n",
    "from sklearn.model_selection import GridSearchCV\n",
    "from sklearn.metrics import roc_auc_score"
   ]
  },
  {
   "cell_type": "markdown",
   "metadata": {},
   "source": [
    "# Example of connection with database"
   ]
  },
  {
   "cell_type": "code",
   "execution_count": 4,
   "metadata": {
    "execution": {
     "iopub.execute_input": "2022-09-11T09:26:57.512123Z",
     "iopub.status.busy": "2022-09-11T09:26:57.511636Z",
     "iopub.status.idle": "2022-09-11T09:26:57.517398Z",
     "shell.execute_reply": "2022-09-11T09:26:57.516227Z",
     "shell.execute_reply.started": "2022-09-11T09:26:57.512084Z"
    }
   },
   "outputs": [],
   "source": [
    "database = ''\n",
    "user = ''\n",
    "password = ''\n",
    "host = ''\n",
    "port = 0"
   ]
  },
  {
   "cell_type": "code",
   "execution_count": 5,
   "metadata": {
    "execution": {
     "iopub.execute_input": "2022-09-11T09:27:02.958692Z",
     "iopub.status.busy": "2022-09-11T09:27:02.957909Z",
     "iopub.status.idle": "2022-09-11T09:27:02.963475Z",
     "shell.execute_reply": "2022-09-11T09:27:02.962551Z",
     "shell.execute_reply.started": "2022-09-11T09:27:02.958650Z"
    }
   },
   "outputs": [],
   "source": [
    "CONNECTION = f\"postgresql://{user}:{password}@{host}:{port}/{database}\""
   ]
  },
  {
   "cell_type": "markdown",
   "metadata": {},
   "source": [
    "# Reading data"
   ]
  },
  {
   "cell_type": "code",
   "execution_count": 7,
   "metadata": {
    "execution": {
     "iopub.execute_input": "2022-09-11T09:27:20.761661Z",
     "iopub.status.busy": "2022-09-11T09:27:20.761181Z",
     "iopub.status.idle": "2022-09-11T09:27:24.965191Z",
     "shell.execute_reply": "2022-09-11T09:27:24.963803Z",
     "shell.execute_reply.started": "2022-09-11T09:27:20.761612Z"
    }
   },
   "outputs": [],
   "source": [
    "user_data = pd.read_sql(\n",
    "    \"\"\" SELECT * FROM public.user_data;\"\"\",\n",
    "    con=CONNECTION\n",
    ")\n",
    "user_data"
   ]
  },
  {
   "cell_type": "code",
   "execution_count": 8,
   "metadata": {
    "execution": {
     "iopub.execute_input": "2022-09-11T09:27:26.106708Z",
     "iopub.status.busy": "2022-09-11T09:27:26.104183Z",
     "iopub.status.idle": "2022-09-11T09:27:29.070853Z",
     "shell.execute_reply": "2022-09-11T09:27:29.069622Z",
     "shell.execute_reply.started": "2022-09-11T09:27:26.106661Z"
    }
   },
   "outputs": [],
   "source": [
    "post_data = pd.read_sql(\n",
    "    \"\"\" SELECT * FROM public.post_text_df;\"\"\",\n",
    "    con=CONNECTION\n",
    ")\n",
    "post_data.head(10)"
   ]
  },
  {
   "cell_type": "code",
   "execution_count": 9,
   "metadata": {
    "execution": {
     "iopub.execute_input": "2022-09-11T09:27:29.935709Z",
     "iopub.status.busy": "2022-09-11T09:27:29.935300Z",
     "iopub.status.idle": "2022-09-11T09:27:45.559087Z",
     "shell.execute_reply": "2022-09-11T09:27:45.557931Z",
     "shell.execute_reply.started": "2022-09-11T09:27:29.935674Z"
    }
   },
   "outputs": [],
   "source": [
    "# Base consists of 76.892.800 notes, but using only 2.000.000\n",
    "whole_data = pd.read_sql(\n",
    "    \"\"\" SELECT * \n",
    "        FROM public.feed_data as fa \n",
    "        LIMIT 2000000\n",
    "        \"\"\",\n",
    "    con=CONNECTION\n",
    ")\n",
    "\n",
    "whole_data"
   ]
  },
  {
   "cell_type": "markdown",
   "metadata": {},
   "source": [
    "# Data processing"
   ]
  },
  {
   "cell_type": "markdown",
   "metadata": {},
   "source": [
    "## post_data"
   ]
  },
  {
   "cell_type": "code",
   "execution_count": 10,
   "metadata": {
    "execution": {
     "iopub.execute_input": "2022-09-11T09:27:45.562032Z",
     "iopub.status.busy": "2022-09-11T09:27:45.561580Z",
     "iopub.status.idle": "2022-09-11T09:27:45.575946Z",
     "shell.execute_reply": "2022-09-11T09:27:45.574329Z",
     "shell.execute_reply.started": "2022-09-11T09:27:45.561977Z"
    }
   },
   "outputs": [],
   "source": [
    "lematizer = WordNetLemmatizer()\n",
    "\n",
    "def get_wordnet_pos(word):\n",
    "    \"\"\"Map part-of-speech tag to first character lemmatize() accepts\"\"\"\n",
    "    tag = nltk.pos_tag([word])[0][1][0].upper()\n",
    "    tag_dict = {\"J\": wordnet.ADJ,\n",
    "                \"N\": wordnet.NOUN,\n",
    "                \"V\": wordnet.VERB,\n",
    "                \"R\": wordnet.ADV}\n",
    "    return tag_dict.get(tag, wordnet.NOUN)\n",
    "\n",
    "def del_letter_next_number(line):\n",
    "    \"\"\"delete letters next to numbers and numbers themselves\"\"\"\n",
    "    list_inds_del = []\n",
    "    skip_inds = 0\n",
    "    len_line = len(line)\n",
    "    list_nums = ['0', '1', '2', '3', '4', '5', '6', '7', '8', '9']\n",
    "    for ind in range(len_line):\n",
    "        if skip_inds != 0:\n",
    "            skip_inds -= 1\n",
    "            continue\n",
    "        if line[ind] in list_nums:\n",
    "            len_syms = 0\n",
    "            len_nums = 0\n",
    "            while (ind - 1 - len_syms >= 0) and (line[ind - 1 - len_syms] != ' '):\n",
    "                len_syms += 1\n",
    "            if (ind + 1 < len_line) and line[ind + 1] != ' ':\n",
    "                len_nums += 1\n",
    "                while (ind + len_nums < len_line) and line[ind + len_nums] != ' ':\n",
    "                    len_nums += 1\n",
    "            if len_nums == 0:\n",
    "                list_inds_del.append((ind - len_syms, ind + 1))\n",
    "            else:\n",
    "                list_inds_del.append((ind - len_syms, ind + len_nums))\n",
    "            skip_inds = len_nums          \n",
    "    diff_i_j = 0\n",
    "    for i, j in list_inds_del:\n",
    "        line = line[:i - diff_i_j] + line[j - diff_i_j:]\n",
    "        diff_i_j += j - i\n",
    "    return line\n",
    "\n",
    "def preprocessing(line, token=lematizer):\n",
    "    \"\"\"delete punctuation and apply WordNetLemmatizer()\"\"\"\n",
    "    line = line.lower()\n",
    "    line = line.replace('\\n\\n', ' ').replace('\\n', ' ')\n",
    "    line = del_letter_next_number(line)\n",
    "    line = re.sub(r\"[{}]\".format(string.punctuation), \" \", line)\n",
    "    line = ' '.join([token.lemmatize(w, get_wordnet_pos(w)) for w in nltk.word_tokenize(line)])\n",
    "    return line"
   ]
  },
  {
   "cell_type": "code",
   "execution_count": 12,
   "metadata": {
    "execution": {
     "iopub.execute_input": "2022-09-11T09:27:50.221744Z",
     "iopub.status.busy": "2022-09-11T09:27:50.221312Z",
     "iopub.status.idle": "2022-09-11T09:27:50.228820Z",
     "shell.execute_reply": "2022-09-11T09:27:50.227421Z",
     "shell.execute_reply.started": "2022-09-11T09:27:50.221705Z"
    }
   },
   "outputs": [],
   "source": [
    "def tf_idf():\n",
    "    \"\"\"Carrying out tf_idf method\"\"\"\n",
    "\n",
    "    tfidf = TfidfVectorizer(\n",
    "        stop_words='english',\n",
    "        preprocessor=preprocessing\n",
    "    )\n",
    "    \n",
    "    tfidf_data = (\n",
    "        tfidf\n",
    "        .fit_transform(post_data['text'])\n",
    "        .toarray()\n",
    "    )\n",
    "    \n",
    "    tfidf_data = pd.DataFrame(\n",
    "        tfidf_data,\n",
    "        index=post_data.post_id,\n",
    "        columns=tfidf.get_feature_names_out()\n",
    "    )\n",
    "    \n",
    "    return tfidf_data"
   ]
  },
  {
   "cell_type": "code",
   "execution_count": 13,
   "metadata": {
    "execution": {
     "iopub.execute_input": "2022-09-11T09:27:54.318743Z",
     "iopub.status.busy": "2022-09-11T09:27:54.317979Z",
     "iopub.status.idle": "2022-09-11T09:32:36.467974Z",
     "shell.execute_reply": "2022-09-11T09:32:36.466831Z",
     "shell.execute_reply.started": "2022-09-11T09:27:54.318703Z"
    }
   },
   "outputs": [],
   "source": [
    "tfidf_transform = tf_idf()\n",
    "\n",
    "post_data['TotalTfIdf'] = tfidf_transform.sum(axis=1).reset_index()[0]\n",
    "post_data['MaxTfIdf'] = tfidf_transform.max(axis=1).reset_index()[0]\n",
    "post_data['MeanTfIdf'] = tfidf_transform.mean(axis=1).reset_index()[0]\n",
    "\n",
    "post_data.head()"
   ]
  },
  {
   "cell_type": "code",
   "execution_count": 15,
   "metadata": {
    "execution": {
     "iopub.execute_input": "2022-09-11T09:32:50.018251Z",
     "iopub.status.busy": "2022-09-11T09:32:50.017448Z",
     "iopub.status.idle": "2022-09-11T09:32:50.025340Z",
     "shell.execute_reply": "2022-09-11T09:32:50.024217Z",
     "shell.execute_reply.started": "2022-09-11T09:32:50.018208Z"
    }
   },
   "outputs": [],
   "source": [
    "def post_clustering(n_components, n_cluster):\n",
    "    \"\"\"At first, carrying out PCA with n_components, thereafter KMeans with n_cluster\"\"\"\n",
    "    centered = tfidf_transform - tfidf_transform.mean()\n",
    "\n",
    "    pca = PCA(n_components=n_components)\n",
    "    pca_transform = pca.fit_transform(centered)\n",
    "\n",
    "\n",
    "    kmeans = KMeans(n_clusters=n_cluster, random_state=0).fit(pca_transform)\n",
    "    post_data['TextCluster'] = kmeans.labels_\n",
    "\n",
    "    dists_cols = [f\"DistanceTo{ith}thCluster\" for ith in range(1, n_cluster+1)]\n",
    "\n",
    "    return pd.DataFrame(\n",
    "        data=kmeans.transform(pca_transform),\n",
    "        columns=dists_cols\n",
    "    )"
   ]
  },
  {
   "cell_type": "code",
   "execution_count": 16,
   "metadata": {
    "execution": {
     "iopub.execute_input": "2022-09-11T09:32:53.736222Z",
     "iopub.status.busy": "2022-09-11T09:32:53.735796Z",
     "iopub.status.idle": "2022-09-11T09:33:14.546561Z",
     "shell.execute_reply": "2022-09-11T09:33:14.544667Z",
     "shell.execute_reply.started": "2022-09-11T09:32:53.736182Z"
    }
   },
   "outputs": [],
   "source": [
    "post_data = pd.concat((post_data, post_clustering(n_components=20, n_cluster=12)), axis=1)\n",
    "\n",
    "post_data.head()"
   ]
  },
  {
   "cell_type": "markdown",
   "metadata": {},
   "source": [
    "## whole_data"
   ]
  },
  {
   "cell_type": "code",
   "execution_count": 17,
   "metadata": {
    "execution": {
     "iopub.execute_input": "2022-09-11T09:33:24.049179Z",
     "iopub.status.busy": "2022-09-11T09:33:24.048692Z",
     "iopub.status.idle": "2022-09-11T09:33:24.301146Z",
     "shell.execute_reply": "2022-09-11T09:33:24.299785Z",
     "shell.execute_reply.started": "2022-09-11T09:33:24.049139Z"
    }
   },
   "outputs": [],
   "source": [
    "\"\"\"delete data where an action is like because it is doubling\"\"\"\n",
    "whole_data = whole_data[whole_data['action'] != 'like']"
   ]
  },
  {
   "cell_type": "code",
   "execution_count": 18,
   "metadata": {
    "execution": {
     "iopub.execute_input": "2022-09-11T09:33:28.795329Z",
     "iopub.status.busy": "2022-09-11T09:33:28.794939Z",
     "iopub.status.idle": "2022-09-11T09:33:28.823193Z",
     "shell.execute_reply": "2022-09-11T09:33:28.821808Z",
     "shell.execute_reply.started": "2022-09-11T09:33:28.795294Z"
    }
   },
   "outputs": [],
   "source": [
    "whole_data['target'].value_counts()"
   ]
  },
  {
   "cell_type": "markdown",
   "metadata": {},
   "source": [
    "# Everything merges into whole_data"
   ]
  },
  {
   "cell_type": "code",
   "execution_count": 19,
   "metadata": {
    "execution": {
     "iopub.execute_input": "2022-09-11T09:33:32.544264Z",
     "iopub.status.busy": "2022-09-11T09:33:32.543282Z",
     "iopub.status.idle": "2022-09-11T09:33:34.323256Z",
     "shell.execute_reply": "2022-09-11T09:33:34.322039Z",
     "shell.execute_reply.started": "2022-09-11T09:33:32.544222Z"
    }
   },
   "outputs": [],
   "source": [
    "whole_data = pd.merge(\n",
    "    whole_data,\n",
    "    post_data,\n",
    "    on='post_id',\n",
    "    how='left'\n",
    ")\n",
    "\n",
    "whole_data = pd.merge(\n",
    "    whole_data,\n",
    "    user_data,\n",
    "    on='user_id',\n",
    "    how='left'\n",
    ")\n",
    "\n",
    "whole_data.head()"
   ]
  },
  {
   "cell_type": "code",
   "execution_count": 20,
   "metadata": {
    "execution": {
     "iopub.execute_input": "2022-09-11T09:33:36.324855Z",
     "iopub.status.busy": "2022-09-11T09:33:36.324433Z",
     "iopub.status.idle": "2022-09-11T09:34:02.102449Z",
     "shell.execute_reply": "2022-09-11T09:34:02.101289Z",
     "shell.execute_reply.started": "2022-09-11T09:33:36.324820Z"
    }
   },
   "outputs": [],
   "source": [
    "whole_data['hour'] = whole_data['timestamp'].apply(lambda x: x.hour)\n",
    "whole_data['dayofweek'] = whole_data['timestamp'].apply(lambda x: x.weekday())\n",
    "whole_data['month'] = whole_data['timestamp'].apply(lambda x: x.month)\n",
    "\n",
    "whole_data = whole_data.drop(['action','text'], axis=1)\n",
    "\n",
    "whole_data = whole_data.set_index(['user_id', 'post_id'])\n",
    "\n",
    "whole_data.head()"
   ]
  },
  {
   "cell_type": "markdown",
   "metadata": {},
   "source": [
    "# Train-test split"
   ]
  },
  {
   "cell_type": "code",
   "execution_count": 21,
   "metadata": {
    "execution": {
     "iopub.execute_input": "2022-09-11T09:34:12.933430Z",
     "iopub.status.busy": "2022-09-11T09:34:12.932553Z",
     "iopub.status.idle": "2022-09-11T09:34:19.637333Z",
     "shell.execute_reply": "2022-09-11T09:34:19.636147Z",
     "shell.execute_reply.started": "2022-09-11T09:34:12.933383Z"
    }
   },
   "outputs": [],
   "source": [
    "min(whole_data.timestamp), max(whole_data.timestamp)"
   ]
  },
  {
   "cell_type": "code",
   "execution_count": 22,
   "metadata": {
    "execution": {
     "iopub.execute_input": "2022-09-11T09:34:22.363076Z",
     "iopub.status.busy": "2022-09-11T09:34:22.362374Z",
     "iopub.status.idle": "2022-09-11T09:34:23.844269Z",
     "shell.execute_reply": "2022-09-11T09:34:23.843086Z",
     "shell.execute_reply.started": "2022-09-11T09:34:22.363035Z"
    }
   },
   "outputs": [],
   "source": [
    "train = whole_data[whole_data.timestamp < '2021-12-16']\n",
    "test = whole_data[whole_data.timestamp >= '2021-12-16']\n",
    "\n",
    "whole_data = whole_data.drop('timestamp', axis=1)\n",
    "train = train.drop('timestamp', axis=1)\n",
    "test = test.drop('timestamp', axis=1)\n",
    "\n",
    "X_train = train.drop('target', axis=1)\n",
    "X_test = test.drop('target', axis=1)\n",
    "\n",
    "y_train = train['target']\n",
    "y_test = test['target']"
   ]
  },
  {
   "cell_type": "markdown",
   "metadata": {},
   "source": [
    "# Realization of ColumnTransfomer"
   ]
  },
  {
   "cell_type": "code",
   "execution_count": 23,
   "metadata": {
    "execution": {
     "iopub.execute_input": "2022-09-11T09:34:49.581971Z",
     "iopub.status.busy": "2022-09-11T09:34:49.581503Z",
     "iopub.status.idle": "2022-09-11T09:34:49.589912Z",
     "shell.execute_reply": "2022-09-11T09:34:49.588743Z",
     "shell.execute_reply.started": "2022-09-11T09:34:49.581928Z"
    }
   },
   "outputs": [],
   "source": [
    "def data_processing(whole_data, categorical_cols):\n",
    "    one_hot_cols = [col for col in categorical_cols if whole_data[col].nunique() <= 5]\n",
    "    target_cols = [col for col in categorical_cols if whole_data[col].nunique() > 5]\n",
    "    \n",
    "    one_hot_cols_inds = [list(X_train.columns).index(col) for col in one_hot_cols]\n",
    "    target_cols_inds = [list(X_train.columns).index(col) for col in target_cols]\n",
    "    \n",
    "    t = [\n",
    "        (\"OneHotEncoder\", OneHotEncoder(), one_hot_cols_inds),\n",
    "        (\"TargetEncoder\", TargetEncoder(), target_cols_inds)\n",
    "    ]\n",
    "    \n",
    "    return ColumnTransformer(transformers=t)"
   ]
  },
  {
   "cell_type": "code",
   "execution_count": 24,
   "metadata": {
    "execution": {
     "iopub.execute_input": "2022-09-11T09:34:57.420703Z",
     "iopub.status.busy": "2022-09-11T09:34:57.419890Z",
     "iopub.status.idle": "2022-09-11T09:34:58.750544Z",
     "shell.execute_reply": "2022-09-11T09:34:58.749324Z",
     "shell.execute_reply.started": "2022-09-11T09:34:57.420665Z"
    }
   },
   "outputs": [],
   "source": [
    "categorical_cols = ['gender', 'TextCluster', 'country', 'city', 'exp_group', 'os', 'source', 'topic', 'hour', 'dayofweek', 'month']\n",
    "transformer = data_processing(whole_data, categorical_cols)"
   ]
  },
  {
   "cell_type": "markdown",
   "metadata": {},
   "source": [
    "# Training"
   ]
  },
  {
   "cell_type": "code",
   "execution_count": 25,
   "metadata": {
    "execution": {
     "iopub.execute_input": "2022-09-11T09:35:13.107908Z",
     "iopub.status.busy": "2022-09-11T09:35:13.107477Z",
     "iopub.status.idle": "2022-09-11T09:35:13.144659Z",
     "shell.execute_reply": "2022-09-11T09:35:13.143194Z",
     "shell.execute_reply.started": "2022-09-11T09:35:13.107870Z"
    }
   },
   "outputs": [],
   "source": [
    "def train(name, model, param_grid, categorical_cols=None):\n",
    "    search = GridSearchCV(model, param_grid, scoring='roc_auc')\n",
    "    \n",
    "    if categorical_cols:\n",
    "        search.fit(X_train, y_train, cat_features=categorical_cols)\n",
    "    else:\n",
    "        search.fit(X_train, y_train)\n",
    "\n",
    "    best_model = search.best_estimator_\n",
    "\n",
    "    predict_prob_train = best_model.predict_proba(X_train)[:, 1]\n",
    "    predict_prob_test = best_model.predict_proba(X_test)[:, 1]\n",
    "\n",
    "    print(f\"---{name}---\")\n",
    "    print(f\"roc-auc score on train data: {roc_auc_score(y_train, predict_prob_train)}\")\n",
    "    print(f\"roc-auc score on test data: {roc_auc_score(y_test, predict_prob_test)}\")\n",
    "    return best_model"
   ]
  },
  {
   "cell_type": "markdown",
   "metadata": {},
   "source": [
    "### Models"
   ]
  },
  {
   "cell_type": "code",
   "execution_count": 26,
   "metadata": {
    "execution": {
     "iopub.execute_input": "2022-09-11T09:35:23.838653Z",
     "iopub.status.busy": "2022-09-11T09:35:23.838273Z",
     "iopub.status.idle": "2022-09-11T10:28:42.393356Z",
     "shell.execute_reply": "2022-09-11T10:28:42.392044Z",
     "shell.execute_reply.started": "2022-09-11T09:35:23.838619Z"
    }
   },
   "outputs": [],
   "source": [
    "logreg = Pipeline([(\"ColumnTransformer\", transformer),\n",
    "                      (\"LR\", LogisticRegression(random_state=21, class_weight='balanced'))])\n",
    "param_grid_1 = {\n",
    "    \"LR__C\": [0.01, 0.1, 1, 5, 10],\n",
    "}\n",
    "\n",
    "catboost = CatBoostClassifier(random_state=21, verbose=0)\n",
    "\n",
    "param_grid_2 = {\n",
    "    'iterations': [100, 150],\n",
    "    'depth': [2, 4],\n",
    "    'l2_leaf_reg': [5, 10],\n",
    "}\n",
    "\n",
    "param_grid = [param_grid_1, param_grid_2]\n",
    "models = [logreg, catboost]\n",
    "name = ['LogisticRegression', 'CatBoostClassifier']\n",
    "best_models = []\n",
    "\n",
    "for i in range(len(models)):\n",
    "    if i == 0:\n",
    "        best_model = train(name[0], models[0], param_grid[0])\n",
    "        print()\n",
    "    else:\n",
    "        best_model = train(name[1], models[1], param_grid[1], categorical_cols)\n",
    "    best_models.append(best_model)"
   ]
  },
  {
   "cell_type": "markdown",
   "metadata": {},
   "source": [
    "# Save two models for A/B testing"
   ]
  },
  {
   "cell_type": "code",
   "execution_count": 30,
   "metadata": {
    "execution": {
     "iopub.execute_input": "2022-09-11T10:43:50.021261Z",
     "iopub.status.busy": "2022-09-11T10:43:50.020795Z",
     "iopub.status.idle": "2022-09-11T10:43:50.031857Z",
     "shell.execute_reply": "2022-09-11T10:43:50.030937Z",
     "shell.execute_reply.started": "2022-09-11T10:43:50.021218Z"
    }
   },
   "outputs": [],
   "source": [
    "pickle.dump(best_models[0], open('model_control_1.pkl', 'wb'))\n",
    "pickle.dump(best_models[1], open('model_test_1.pkl', 'wb'))"
   ]
  },
  {
   "cell_type": "markdown",
   "metadata": {},
   "source": [
    "# Download post_data in base"
   ]
  },
  {
   "cell_type": "code",
   "execution_count": 32,
   "metadata": {
    "execution": {
     "iopub.execute_input": "2022-09-09T17:37:04.321663Z",
     "iopub.status.busy": "2022-09-09T17:37:04.321152Z",
     "iopub.status.idle": "2022-09-09T17:37:11.679368Z",
     "shell.execute_reply": "2022-09-09T17:37:11.678311Z",
     "shell.execute_reply.started": "2022-09-09T17:37:04.321593Z"
    }
   },
   "outputs": [],
   "source": [
    "post_data.to_sql(    \n",
    "   \"post_processed_features\",                    \n",
    "    con=CONNECTION,\n",
    "    schema=\"public\", \n",
    "    if_exists='replace',\n",
    "    index=False\n",
    "   )      "
   ]
  },
  {
   "cell_type": "code",
   "execution_count": 33,
   "metadata": {
    "execution": {
     "iopub.execute_input": "2022-09-09T17:37:35.485466Z",
     "iopub.status.busy": "2022-09-09T17:37:35.485022Z",
     "iopub.status.idle": "2022-09-09T17:37:38.609121Z",
     "shell.execute_reply": "2022-09-09T17:37:38.607974Z",
     "shell.execute_reply.started": "2022-09-09T17:37:35.485431Z"
    }
   },
   "outputs": [],
   "source": [
    "test_ = pd.read_sql(\n",
    "    \"\"\"SELECT * FROM public.post_processed_features\"\"\",\n",
    "    \n",
    "    con=CONNECTION\n",
    ")\n",
    "\n",
    "test_"
   ]
  },
  {
   "cell_type": "code",
   "execution_count": null,
   "metadata": {},
   "outputs": [],
   "source": []
  }
 ],
 "metadata": {
  "kernelspec": {
   "display_name": "Python 3",
   "language": "python",
   "name": "python3"
  },
  "language_info": {
   "codemirror_mode": {
    "name": "ipython",
    "version": 3
   },
   "file_extension": ".py",
   "mimetype": "text/x-python",
   "name": "python",
   "nbconvert_exporter": "python",
   "pygments_lexer": "ipython3",
   "version": "3.8.3"
  }
 },
 "nbformat": 4,
 "nbformat_minor": 4
}
